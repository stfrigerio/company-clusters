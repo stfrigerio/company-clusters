{
 "cells": [
  {
   "cell_type": "code",
   "execution_count": 3,
   "metadata": {},
   "outputs": [
    {
     "data": {
      "text/plain": [
       "0     The following text describes companies in the ...\n",
       "1     The following text describes companies in the ...\n",
       "2     The following text describes companies in the ...\n",
       "3     The following text describes companies in the ...\n",
       "4     The following text describes companies in the ...\n",
       "5     The following text describes companies in the ...\n",
       "6     The following text describes companies in the ...\n",
       "7     The following text describes companies in the ...\n",
       "8     The following text describes companies in the ...\n",
       "9     The following text describes companies in the ...\n",
       "10    The following text describes companies in the ...\n",
       "11    The following text describes companies in the ...\n",
       "12    The following text describes companies in the ...\n",
       "13    The following text describes companies in the ...\n",
       "14    The following text describes companies in the ...\n",
       "15    The following text describes companies in the ...\n",
       "16    The following text describes companies in the ...\n",
       "17    The following text describes companies in the ...\n",
       "18    The following text describes companies in the ...\n",
       "19    The following text describes companies in the ...\n",
       "20    The following text describes companies in the ...\n",
       "21    The following text describes companies in the ...\n",
       "22    The following text describes companies in the ...\n",
       "23    The following text describes companies in the ...\n",
       "24    The following text describes companies in the ...\n",
       "25    The following text describes companies in the ...\n",
       "26    The following text describes companies in the ...\n",
       "27    The following text describes companies in the ...\n",
       "28    The following text describes companies in the ...\n",
       "29    The following text describes companies in the ...\n",
       "30    The following text describes companies in the ...\n",
       "31    The following text describes companies in the ...\n",
       "32    The following text describes companies in the ...\n",
       "33    The following text describes companies in the ...\n",
       "34    The following text describes companies in the ...\n",
       "35    The following text describes companies in the ...\n",
       "Name: cluster_description, dtype: object"
      ]
     },
     "execution_count": 3,
     "metadata": {},
     "output_type": "execute_result"
    }
   ],
   "source": [
    "import pandas as pd\n",
    "\n",
    "df = pd.read_csv('cluster_descriptions.csv')\n",
    "\n",
    "df['cluster_description']"
   ]
  }
 ],
 "metadata": {
  "kernelspec": {
   "display_name": "myenv",
   "language": "python",
   "name": "python3"
  },
  "language_info": {
   "codemirror_mode": {
    "name": "ipython",
    "version": 3
   },
   "file_extension": ".py",
   "mimetype": "text/x-python",
   "name": "python",
   "nbconvert_exporter": "python",
   "pygments_lexer": "ipython3",
   "version": "3.12.3"
  }
 },
 "nbformat": 4,
 "nbformat_minor": 2
}
